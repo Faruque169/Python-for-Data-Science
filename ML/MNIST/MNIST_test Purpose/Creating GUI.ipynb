{
 "cells": [
  {
   "cell_type": "markdown",
   "metadata": {},
   "source": [
    "# Create GUI to predict digits -(Need to amend some situation)"
   ]
  },
  {
   "cell_type": "markdown",
   "metadata": {},
   "source": [
    "### Import libraries"
   ]
  },
  {
   "cell_type": "code",
   "execution_count": 1,
   "metadata": {},
   "outputs": [],
   "source": [
    "import os\n",
    "import PIL\n",
    "import cv2\n",
    "import glob\n",
    "import numpy as np\n",
    "from tkinter import *\n",
    "from PIL import Image, ImageDraw, ImageGrab\n",
    "import tensorflow as tf\n",
    "from tensorflow import keras"
   ]
  },
  {
   "cell_type": "markdown",
   "metadata": {},
   "source": [
    "### Load Model"
   ]
  },
  {
   "cell_type": "code",
   "execution_count": 2,
   "metadata": {},
   "outputs": [
    {
     "name": "stdout",
     "output_type": "stream",
     "text": [
      "Model load successfully, Go for the app\n"
     ]
    }
   ],
   "source": [
    "model = keras.models.load_model(r'C:\\Users\\bZm Graphics\\Beginner Coding in Py3\\ML\\MNIST\\MNIST_test Purpose/model.h1')\n",
    "print('Model load successfully, Go for the app')"
   ]
  },
  {
   "cell_type": "markdown",
   "metadata": {},
   "source": [
    "### Source\n",
    "https://medium.com/analytics-vidhya/handwritten-digit-recognition-gui-app-46e3d7b37287"
   ]
  },
  {
   "cell_type": "code",
   "execution_count": 3,
   "metadata": {},
   "outputs": [
    {
     "ename": "NameError",
     "evalue": "name 'activate_event' is not defined",
     "output_type": "error",
     "traceback": [
      "\u001b[1;31m---------------------------------------------------------------------------\u001b[0m",
      "\u001b[1;31mNameError\u001b[0m                                 Traceback (most recent call last)",
      "\u001b[1;32m<ipython-input-3-792760b4fa95>\u001b[0m in \u001b[0;36m<module>\u001b[1;34m\u001b[0m\n\u001b[0;32m     16\u001b[0m \u001b[1;33m\u001b[0m\u001b[0m\n\u001b[0;32m     17\u001b[0m \u001b[1;31m# #Tkinter provides a powerful mechanism to let you deal with events yourself.\u001b[0m\u001b[1;33m\u001b[0m\u001b[1;33m\u001b[0m\u001b[1;33m\u001b[0m\u001b[0m\n\u001b[1;32m---> 18\u001b[1;33m \u001b[0mcv\u001b[0m\u001b[1;33m.\u001b[0m\u001b[0mbind\u001b[0m\u001b[1;33m(\u001b[0m\u001b[1;34m'<Button-1>'\u001b[0m\u001b[1;33m,\u001b[0m \u001b[0mactivate_event\u001b[0m\u001b[1;33m)\u001b[0m\u001b[1;33m\u001b[0m\u001b[1;33m\u001b[0m\u001b[0m\n\u001b[0m\u001b[0;32m     19\u001b[0m \u001b[1;33m\u001b[0m\u001b[0m\n\u001b[0;32m     20\u001b[0m \u001b[1;31m#Add Buttons and Labels\u001b[0m\u001b[1;33m\u001b[0m\u001b[1;33m\u001b[0m\u001b[1;33m\u001b[0m\u001b[0m\n",
      "\u001b[1;31mNameError\u001b[0m: name 'activate_event' is not defined"
     ]
    }
   ],
   "source": [
    "### Creating Mainloop()\n",
    "# Create a main window first (named as root).\n",
    "root = Tk()\n",
    "root.resizable(0,0)\n",
    "root.title(\"Handwritten Digit Recognition GUI App\")\n",
    "\n",
    "\n",
    "#Initialize few variables\n",
    "lastx, lasty = None, None\n",
    "image_number = 0\n",
    "\n",
    "#create a canvas for drawing\n",
    "cv = Canvas(root, width=640, height =480, bg='white')\n",
    "cv.grid(row=0, column=0, pady=2, sticky=W, columnspan=2)\n",
    "\n",
    "\n",
    "# #Tkinter provides a powerful mechanism to let you deal with events yourself.\n",
    "cv.bind('<Button-1>', activate_event)\n",
    "\n",
    "#Add Buttons and Labels\n",
    "btn_save = Button(text=\"Recognize Digit\", command=Recognize_Digit)\n",
    "btn_save.grid(row=2, column=0, pady=1, padx=1)\n",
    "button_clear = Button(text = \"Clear Widget\", command = clear_widget)\n",
    "button_clear.grid(row=2, column=1, pady=1, padx=1)\n",
    "\n",
    "# mainloop() is used when your application is ready to run.\n",
    "root.mainloop()\n",
    "\n",
    "\n",
    "\n",
    "### creating function\n",
    "def clear_widget():\n",
    "    global cv\n",
    "    # To clear a canvas\n",
    "    cv.delete(\"all\")\n",
    "    \n",
    "def activate_event(event):\n",
    "    global lastx, lasty\n",
    "    # <B1-Motion>\n",
    "    cv.bind('<B1-Motion>', draw_lines)\n",
    "    lastx, lasty = event.x, event_y\n",
    "    \n",
    "def draw_lines(event):\n",
    "    global lastx, lasty\n",
    "    x, y = event.x, event_y\n",
    "    #do the canvas drawings\n",
    "    cv.create((lastx, lasty, x, y),width=8, fill='black',capstyle=Round, smooth=True, splinesteps=12)\n",
    "    lastx, lasty = x, y\n",
    "    \n",
    "\n",
    "    \n",
    "    \n",
    "### Creating Recognition_Digit()\n",
    "def Recognize_Digit():\n",
    "    global image_number\n",
    "    predictions = []\n",
    "    percentage = []\n",
    "    #image_number = 0\n",
    "    filename = f'image_{image_number}.png'\n",
    "    widget=cv\n",
    "    \n",
    "    #get the widget co-ordinates\n",
    "    x=root.winfo_rootx() + widget.winfo_x()\n",
    "    y=root.winfo_rooty() + widget.winfo_y()\n",
    "    x1=x+widget.winfo_width()\n",
    "    y1=y+widget.winfo_width()\n",
    "    \n",
    "    \n",
    "    #grab the image, crop it according to my requirement and save it in png format\n",
    "    ImageGrab.grab().crop((x,y,x1,y1)).save(filename)\n",
    "    \n",
    "    \n",
    "    \n",
    "    \n",
    "    \n",
    "    ### OpenCV to find contours of an image\n",
    "    #It is better to use binary images fopr better accuracy so before finding contours, apply a threshold.\n",
    "\n",
    "    # read the image in color format\n",
    "    image = cv2.imread(filename, cv2.IMREAD_COLOR)\n",
    "    # Convert the image in grayscale\n",
    "    gray = cv2.cvtcolor(image, cv2.COLOR_BGR2GRAY)\n",
    "    # applying otsu thresholding\n",
    "    ret,th = cv2.threshold(gray,0,255,cv2.THRESH_BINARY_INV+cv2.THRESH_OTSU)\n",
    "    # findContour() function helps in extraxting the contours from the image.\n",
    "    contours = cv2.findContours(th, cv.RETR_EXTERNAL, cv2.CHAIN_APPROX_SIMPLE)[0]\n",
    "    \n",
    "\n",
    "    \n",
    "    \n",
    "    \n",
    "### Creating bounding boxes for contours and extract ROI. After extracting region of interest, we will preprocess(resize,reshape and normalize) the image to support our model input. Then execute model.predict()\n",
    "for cnt in contours:\n",
    "    # Get bounding boxes and extract ROI\n",
    "    x,y,w,h = cv2.boundingRect(cnt)\n",
    "    # Create rectangle\n",
    "    cv2.rectangle(image, (x,y), (x+w, y+h), (255,0,0), 1)\n",
    "    top = int(0.05 * th.shape[0])\n",
    "    bottom = top\n",
    "    left = int(0.05 * th.shape[1])\n",
    "    right = left\n",
    "    th_up = cv2.copyMakeBorder(th, top, bottom, left, right, cv2.BORDER_REPLICATE)\n",
    "    # Extract the image ROI\n",
    "    roi= th[y-top:y+h+bottom, x-left:x+w+right]\n",
    "    # resize roi image to 28*28 pixels\n",
    "    img = cv2.resize(roi, (28,28), interpolation=cv2.INTER_AREA)\n",
    "    # reshaping the image to support our model input\n",
    "    img = img.reshape(1,28,28,1)\n",
    "    # normalizing the image to support our model input\n",
    "    img = img/255.0\n",
    "    # its time to predict the result\n",
    "    pred = model.predict([img])[0]\n",
    "    # numpy.argmax(input array) returns the indicates of the maximum values.\n",
    "    final_pred = np.argmax(pred)\n",
    "    data = str(final_pred) +' '+ str(int(max(pred)*100))+'%'\n",
    "    # cv2.putText() method is used to draw a text string on image.\n",
    "    font = cv2.FONT_HERSHEY_SIMPLEX\n",
    "    fontScale = 0.5\n",
    "    color = (255, 0, 0)\n",
    "    thickness = 1\n",
    "    cv2.putText(image, data, (x,y-5), font, fontScale, color, thickness)\n",
    "\n",
    "        \n",
    "# Showing the predicted results on new window.\n",
    "cv2.imshow('image', image)\n",
    "cv2.waitkey(0)"
   ]
  },
  {
   "cell_type": "code",
   "execution_count": null,
   "metadata": {},
   "outputs": [],
   "source": []
  }
 ],
 "metadata": {
  "kernelspec": {
   "display_name": "Python [conda env:py3_TF2.0]",
   "language": "python",
   "name": "conda-env-py3_TF2.0-py"
  },
  "language_info": {
   "codemirror_mode": {
    "name": "ipython",
    "version": 3
   },
   "file_extension": ".py",
   "mimetype": "text/x-python",
   "name": "python",
   "nbconvert_exporter": "python",
   "pygments_lexer": "ipython3",
   "version": "3.8.5"
  }
 },
 "nbformat": 4,
 "nbformat_minor": 4
}
