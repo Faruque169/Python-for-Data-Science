{
 "cells": [
  {
   "cell_type": "markdown",
   "metadata": {},
   "source": [
    "# Create machine learning algorithm"
   ]
  },
  {
   "cell_type": "markdown",
   "metadata": {},
   "source": [
    "### import relevant libraries"
   ]
  },
  {
   "cell_type": "code",
   "execution_count": 1,
   "metadata": {},
   "outputs": [],
   "source": [
    "import numpy as np\n",
    "import tensorflow as tf"
   ]
  },
  {
   "cell_type": "markdown",
   "metadata": {},
   "source": [
    "### Data"
   ]
  },
  {
   "cell_type": "code",
   "execution_count": 2,
   "metadata": {},
   "outputs": [],
   "source": [
    "npz = np.load('Audiobooks_data_train.npz')\n",
    "\n",
    "train_inputs = npz['inputs'].astype(np.float)\n",
    "train_targets = npz['targets'].astype(np.int)\n",
    "\n",
    "npz = np.load('Audiobooks_data_validation.npz')\n",
    "validation_inputs, validation_targets = npz['inputs'].astype(np.float), npz['targets'].astype(np.int)\n",
    "\n",
    "npz = np.load('Audiobooks_data_test.npz')\n",
    "test_inputs, test_targets = npz['inputs'].astype(np.float), npz['targets'].astype(np.int)"
   ]
  },
  {
   "cell_type": "markdown",
   "metadata": {},
   "source": [
    "# Model\n",
    "### Outline, optimizers, loss, early stopping and training"
   ]
  },
  {
   "cell_type": "code",
   "execution_count": 3,
   "metadata": {},
   "outputs": [
    {
     "name": "stdout",
     "output_type": "stream",
     "text": [
      "Epoch 1/100\n",
      "36/36 - 0s - loss: 1.4947 - accuracy: 0.5085 - val_loss: 0.9083 - val_accuracy: 0.6532\n",
      "Epoch 2/100\n",
      "36/36 - 0s - loss: 0.6722 - accuracy: 0.7125 - val_loss: 0.5207 - val_accuracy: 0.7763\n",
      "Epoch 3/100\n",
      "36/36 - 0s - loss: 0.4841 - accuracy: 0.7636 - val_loss: 0.4421 - val_accuracy: 0.7830\n",
      "Epoch 4/100\n",
      "36/36 - 0s - loss: 0.4326 - accuracy: 0.7709 - val_loss: 0.4122 - val_accuracy: 0.7897\n",
      "Epoch 5/100\n",
      "36/36 - 0s - loss: 0.4052 - accuracy: 0.7885 - val_loss: 0.3957 - val_accuracy: 0.7942\n",
      "Epoch 6/100\n",
      "36/36 - 0s - loss: 0.3896 - accuracy: 0.7960 - val_loss: 0.3834 - val_accuracy: 0.7919\n",
      "Epoch 7/100\n",
      "36/36 - 0s - loss: 0.3823 - accuracy: 0.7874 - val_loss: 0.3774 - val_accuracy: 0.8009\n",
      "Epoch 8/100\n",
      "36/36 - 0s - loss: 0.3759 - accuracy: 0.7890 - val_loss: 0.3684 - val_accuracy: 0.8121\n",
      "Epoch 9/100\n",
      "36/36 - 0s - loss: 0.3651 - accuracy: 0.7983 - val_loss: 0.3607 - val_accuracy: 0.8031\n",
      "Epoch 10/100\n",
      "36/36 - 0s - loss: 0.3590 - accuracy: 0.8064 - val_loss: 0.3616 - val_accuracy: 0.8188\n"
     ]
    },
    {
     "data": {
      "text/plain": [
       "<tensorflow.python.keras.callbacks.History at 0x1b3c5cee340>"
      ]
     },
     "execution_count": 3,
     "metadata": {},
     "output_type": "execute_result"
    }
   ],
   "source": [
    "input_size = 784\n",
    "output_size = 10\n",
    "hidden_layer_size = 50\n",
    "\n",
    "model = tf.keras.Sequential([\n",
    "                            tf.keras.layers.Dense(hidden_layer_size, activation = 'relu'),\n",
    "                            tf.keras.layers.Dense(hidden_layer_size, activation = 'relu'),\n",
    "                            tf.keras.layers.Dense(output_size, activation = 'softmax')\n",
    "                            ])\n",
    "\n",
    "model.compile(optimizer='adam', loss='sparse_categorical_crossentropy', metrics= ['accuracy'])\n",
    "\n",
    "batch_size = 100\n",
    "\n",
    "max_epoch = 100\n",
    "\n",
    "early_stopping = tf.keras.callbacks.EarlyStopping()\n",
    "\n",
    "model.fit(train_inputs,\n",
    "         train_targets,\n",
    "         batch_size = batch_size,\n",
    "         epochs = max_epoch,\n",
    "         callbacks = [early_stopping],\n",
    "         validation_data = (validation_inputs,validation_targets),\n",
    "         verbose = 2)"
   ]
  },
  {
   "cell_type": "markdown",
   "metadata": {},
   "source": [
    "### Test the model"
   ]
  },
  {
   "cell_type": "code",
   "execution_count": 4,
   "metadata": {},
   "outputs": [
    {
     "name": "stdout",
     "output_type": "stream",
     "text": [
      "14/14 [==============================] - 0s 1ms/step - loss: 0.3410 - accuracy: 0.8192\n"
     ]
    }
   ],
   "source": [
    "test_loss, test_accuracy = model.evaluate(test_inputs, test_targets)"
   ]
  },
  {
   "cell_type": "code",
   "execution_count": 5,
   "metadata": {},
   "outputs": [
    {
     "name": "stdout",
     "output_type": "stream",
     "text": [
      "\n",
      "Test loss: 0.34. Test accuracy:81.92%\n"
     ]
    }
   ],
   "source": [
    "print('\\nTest loss: {0:.2f}. Test accuracy:{1:.2f}%'.format(test_loss, test_accuracy*100.))"
   ]
  }
 ],
 "metadata": {
  "kernelspec": {
   "display_name": "Python [conda env:py3_TF2.0]",
   "language": "python",
   "name": "conda-env-py3_TF2.0-py"
  },
  "language_info": {
   "codemirror_mode": {
    "name": "ipython",
    "version": 3
   },
   "file_extension": ".py",
   "mimetype": "text/x-python",
   "name": "python",
   "nbconvert_exporter": "python",
   "pygments_lexer": "ipython3",
   "version": "3.8.5"
  }
 },
 "nbformat": 4,
 "nbformat_minor": 4
}
