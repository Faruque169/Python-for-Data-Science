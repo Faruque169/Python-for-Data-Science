{
 "cells": [
  {
   "cell_type": "markdown",
   "metadata": {},
   "source": [
    "If we want to simulate die's rolling and ask it to do as many as i required"
   ]
  },
  {
   "cell_type": "code",
   "execution_count": null,
   "metadata": {
    "scrolled": true
   },
   "outputs": [
    {
     "name": "stdout",
     "output_type": "stream",
     "text": [
      "Rolling the dices...\n",
      "The values are....\n",
      "6\n",
      "4\n"
     ]
    }
   ],
   "source": [
    "import random\n",
    "min = 1 \n",
    "max = 6\n",
    "roll_again = \"yes\"\n",
    "\n",
    "while roll_again == \"yes\" or roll_again == \"y\":\n",
    "    print (\"Rolling the dices...\")\n",
    "    print (\"The values are....\")\n",
    "    print (random.randint(min, max))\n",
    "    print (random.randint(min, max))\n",
    "\n",
    "    roll_again = input(\"Roll the dices again?\")"
   ]
  },
  {
   "cell_type": "code",
   "execution_count": null,
   "metadata": {},
   "outputs": [],
   "source": []
  }
 ],
 "metadata": {
  "kernelspec": {
   "display_name": "Python 3",
   "language": "python",
   "name": "python3"
  },
  "language_info": {
   "codemirror_mode": {
    "name": "ipython",
    "version": 3
   },
   "file_extension": ".py",
   "mimetype": "text/x-python",
   "name": "python",
   "nbconvert_exporter": "python",
   "pygments_lexer": "ipython3",
   "version": "3.8.1"
  }
 },
 "nbformat": 4,
 "nbformat_minor": 4
}
