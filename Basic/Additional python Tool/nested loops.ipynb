{
 "cells": [
  {
   "cell_type": "markdown",
   "metadata": {},
   "source": [
    "# Double nested loops"
   ]
  },
  {
   "cell_type": "code",
   "execution_count": 1,
   "metadata": {},
   "outputs": [
    {
     "name": "stdout",
     "output_type": "stream",
     "text": [
      "0\n",
      "1\n"
     ]
    }
   ],
   "source": [
    "for i in range(2):\n",
    "    print(i)"
   ]
  },
  {
   "cell_type": "code",
   "execution_count": 2,
   "metadata": {},
   "outputs": [
    {
     "name": "stdout",
     "output_type": "stream",
     "text": [
      "0\n",
      "1\n",
      "2\n",
      "3\n",
      "4\n"
     ]
    }
   ],
   "source": [
    "for j in range(5):\n",
    "    print(j)"
   ]
  },
  {
   "cell_type": "code",
   "execution_count": 5,
   "metadata": {},
   "outputs": [
    {
     "name": "stdout",
     "output_type": "stream",
     "text": [
      "0\n",
      "1\n",
      "2\n",
      "3\n",
      "4\n",
      "0\n",
      "1\n",
      "2\n",
      "3\n",
      "4\n"
     ]
    }
   ],
   "source": [
    "for i in range(2):\n",
    "    for j in range(5):\n",
    "        print(j)"
   ]
  },
  {
   "cell_type": "code",
   "execution_count": 10,
   "metadata": {},
   "outputs": [
    {
     "name": "stdout",
     "output_type": "stream",
     "text": [
      "[0, 0]\n",
      "[0, 1]\n",
      "[0, 2]\n",
      "[0, 3]\n",
      "[0, 4]\n",
      "[1, 0]\n",
      "[1, 1]\n",
      "[1, 2]\n",
      "[1, 3]\n",
      "[1, 4]\n"
     ]
    }
   ],
   "source": [
    "for i in range(2):\n",
    "    for j in range(5):\n",
    "        print([i,j])"
   ]
  },
  {
   "cell_type": "code",
   "execution_count": 11,
   "metadata": {},
   "outputs": [
    {
     "name": "stdout",
     "output_type": "stream",
     "text": [
      "['product A', 0]\n",
      "['product A', 1]\n",
      "['product A', 2]\n",
      "['product A', 3]\n",
      "['product A', 4]\n",
      "['product B', 0]\n",
      "['product B', 1]\n",
      "['product B', 2]\n",
      "['product B', 3]\n",
      "['product B', 4]\n"
     ]
    }
   ],
   "source": [
    "for i in ['product A','product B']:\n",
    "    for j in range(5):\n",
    "        print([i,j])"
   ]
  },
  {
   "cell_type": "code",
   "execution_count": 12,
   "metadata": {},
   "outputs": [],
   "source": [
    "products = ['product A','product B']\n",
    "exp_sales = [10000,11000,12000,13000]"
   ]
  },
  {
   "cell_type": "code",
   "execution_count": 13,
   "metadata": {},
   "outputs": [
    {
     "name": "stdout",
     "output_type": "stream",
     "text": [
      "['product A', 10000]\n",
      "['product A', 11000]\n",
      "['product A', 12000]\n",
      "['product A', 13000]\n",
      "['product B', 10000]\n",
      "['product B', 11000]\n",
      "['product B', 12000]\n",
      "['product B', 13000]\n"
     ]
    }
   ],
   "source": [
    "for i in products:\n",
    "    for j in exp_sales:\n",
    "        print([i,j])"
   ]
  },
  {
   "cell_type": "markdown",
   "metadata": {},
   "source": [
    "# Triple nested loops"
   ]
  },
  {
   "cell_type": "code",
   "execution_count": 15,
   "metadata": {},
   "outputs": [],
   "source": [
    "products = ['product A','product B']\n",
    "exp_sales = [10000,11000,12000,13000]"
   ]
  },
  {
   "cell_type": "code",
   "execution_count": 16,
   "metadata": {},
   "outputs": [],
   "source": [
    "time_horizon = (1,3,12)"
   ]
  },
  {
   "cell_type": "code",
   "execution_count": 17,
   "metadata": {},
   "outputs": [
    {
     "name": "stdout",
     "output_type": "stream",
     "text": [
      "['product A', 10000]\n",
      "['product A', 30000]\n",
      "['product A', 120000]\n",
      "['product A', 11000]\n",
      "['product A', 33000]\n",
      "['product A', 132000]\n",
      "['product A', 12000]\n",
      "['product A', 36000]\n",
      "['product A', 144000]\n",
      "['product A', 13000]\n",
      "['product A', 39000]\n",
      "['product A', 156000]\n",
      "['product B', 10000]\n",
      "['product B', 30000]\n",
      "['product B', 120000]\n",
      "['product B', 11000]\n",
      "['product B', 33000]\n",
      "['product B', 132000]\n",
      "['product B', 12000]\n",
      "['product B', 36000]\n",
      "['product B', 144000]\n",
      "['product B', 13000]\n",
      "['product B', 39000]\n",
      "['product B', 156000]\n"
     ]
    }
   ],
   "source": [
    "#to find out expected sales on different products in different month\n",
    "for i in products:\n",
    "    for j in exp_sales:\n",
    "        for k in time_horizon:\n",
    "            print([i,j*k])"
   ]
  },
  {
   "cell_type": "markdown",
   "metadata": {},
   "source": [
    "**Note -** \n",
    "1. for industry level expertism use specific name for both iterable variable and iterable"
   ]
  },
  {
   "cell_type": "code",
   "execution_count": 18,
   "metadata": {},
   "outputs": [
    {
     "name": "stdout",
     "output_type": "stream",
     "text": [
      "['product B', 156000]\n",
      "['product B', 156000]\n",
      "['product B', 156000]\n",
      "['product B', 156000]\n",
      "['product B', 156000]\n",
      "['product B', 156000]\n",
      "['product B', 156000]\n",
      "['product B', 156000]\n",
      "['product B', 156000]\n",
      "['product B', 156000]\n",
      "['product B', 156000]\n",
      "['product B', 156000]\n",
      "['product B', 156000]\n",
      "['product B', 156000]\n",
      "['product B', 156000]\n",
      "['product B', 156000]\n",
      "['product B', 156000]\n",
      "['product B', 156000]\n",
      "['product B', 156000]\n",
      "['product B', 156000]\n",
      "['product B', 156000]\n",
      "['product B', 156000]\n",
      "['product B', 156000]\n",
      "['product B', 156000]\n"
     ]
    }
   ],
   "source": [
    "#to find out expected sales on different products in different month\n",
    "for prod in products:\n",
    "    for sale in exp_sales:\n",
    "        for t_hor in time_horizon:\n",
    "            print([i,j*k])"
   ]
  },
  {
   "cell_type": "code",
   "execution_count": 25,
   "metadata": {},
   "outputs": [
    {
     "name": "stdout",
     "output_type": "stream",
     "text": [
      "Expected sales for a period of 1 month(s) for product A: $10000\n",
      "Expected sales for a period of 3 month(s) for product A: $30000\n",
      "Expected sales for a period of 12 month(s) for product A: $120000\n",
      "Expected sales for a period of 1 month(s) for product A: $11000\n",
      "Expected sales for a period of 3 month(s) for product A: $33000\n",
      "Expected sales for a period of 12 month(s) for product A: $132000\n",
      "Expected sales for a period of 1 month(s) for product A: $12000\n",
      "Expected sales for a period of 3 month(s) for product A: $36000\n",
      "Expected sales for a period of 12 month(s) for product A: $144000\n",
      "Expected sales for a period of 1 month(s) for product A: $13000\n",
      "Expected sales for a period of 3 month(s) for product A: $39000\n",
      "Expected sales for a period of 12 month(s) for product A: $156000\n",
      "Expected sales for a period of 1 month(s) for product B: $10000\n",
      "Expected sales for a period of 3 month(s) for product B: $30000\n",
      "Expected sales for a period of 12 month(s) for product B: $120000\n",
      "Expected sales for a period of 1 month(s) for product B: $11000\n",
      "Expected sales for a period of 3 month(s) for product B: $33000\n",
      "Expected sales for a period of 12 month(s) for product B: $132000\n",
      "Expected sales for a period of 1 month(s) for product B: $12000\n",
      "Expected sales for a period of 3 month(s) for product B: $36000\n",
      "Expected sales for a period of 12 month(s) for product B: $144000\n",
      "Expected sales for a period of 1 month(s) for product B: $13000\n",
      "Expected sales for a period of 3 month(s) for product B: $39000\n",
      "Expected sales for a period of 12 month(s) for product B: $156000\n"
     ]
    }
   ],
   "source": [
    "# the result of any loop will not come up in the form of a list. They will practically be string values.\n",
    "for prod in products:\n",
    "    for sale in exp_sales:\n",
    "        for t_hor in time_horizon:\n",
    "            print('Expected sales for a period of {0} month(s) for {1}: ${sales}'.format(t_hor , prod, sales = sale*t_hor))"
   ]
  },
  {
   "cell_type": "code",
   "execution_count": 26,
   "metadata": {},
   "outputs": [
    {
     "name": "stdout",
     "output_type": "stream",
     "text": [
      "Expected sales for a period of 1 month(s) for product A: $10000\n",
      "Expected sales for a period of 1 month(s) for product A: $11000\n",
      "Expected sales for a period of 1 month(s) for product A: $12000\n",
      "Expected sales for a period of 1 month(s) for product A: $13000\n",
      "Expected sales for a period of 3 month(s) for product A: $30000\n",
      "Expected sales for a period of 3 month(s) for product A: $33000\n",
      "Expected sales for a period of 3 month(s) for product A: $36000\n",
      "Expected sales for a period of 3 month(s) for product A: $39000\n",
      "Expected sales for a period of 12 month(s) for product A: $120000\n",
      "Expected sales for a period of 12 month(s) for product A: $132000\n",
      "Expected sales for a period of 12 month(s) for product A: $144000\n",
      "Expected sales for a period of 12 month(s) for product A: $156000\n",
      "Expected sales for a period of 1 month(s) for product B: $10000\n",
      "Expected sales for a period of 1 month(s) for product B: $11000\n",
      "Expected sales for a period of 1 month(s) for product B: $12000\n",
      "Expected sales for a period of 1 month(s) for product B: $13000\n",
      "Expected sales for a period of 3 month(s) for product B: $30000\n",
      "Expected sales for a period of 3 month(s) for product B: $33000\n",
      "Expected sales for a period of 3 month(s) for product B: $36000\n",
      "Expected sales for a period of 3 month(s) for product B: $39000\n",
      "Expected sales for a period of 12 month(s) for product B: $120000\n",
      "Expected sales for a period of 12 month(s) for product B: $132000\n",
      "Expected sales for a period of 12 month(s) for product B: $144000\n",
      "Expected sales for a period of 12 month(s) for product B: $156000\n"
     ]
    }
   ],
   "source": [
    "### In such cases dimension change won't effect the result\n",
    "for prod in products:\n",
    "    for t_hor in time_horizon:\n",
    "        for sale in exp_sales:\n",
    "            print('Expected sales for a period of {0} month(s) for {1}: ${sales}'.format(t_hor , prod, sales = sale*t_hor))"
   ]
  },
  {
   "cell_type": "markdown",
   "metadata": {},
   "source": [
    "**Note** -\n",
    "1. Using loop is non-pythonic\n",
    "2. using list comprehensions is pythonic"
   ]
  }
 ],
 "metadata": {
  "kernelspec": {
   "display_name": "Python 3",
   "language": "python",
   "name": "python3"
  },
  "language_info": {
   "codemirror_mode": {
    "name": "ipython",
    "version": 3
   },
   "file_extension": ".py",
   "mimetype": "text/x-python",
   "name": "python",
   "nbconvert_exporter": "python",
   "pygments_lexer": "ipython3",
   "version": "3.7.1"
  }
 },
 "nbformat": 4,
 "nbformat_minor": 4
}
