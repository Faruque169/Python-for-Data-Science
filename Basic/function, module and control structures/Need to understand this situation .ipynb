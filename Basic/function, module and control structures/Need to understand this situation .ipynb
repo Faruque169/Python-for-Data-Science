{
 "cells": [
  {
   "cell_type": "code",
   "execution_count": 3,
   "metadata": {},
   "outputs": [
    {
     "name": "stdout",
     "output_type": "stream",
     "text": [
      "6\n"
     ]
    }
   ],
   "source": [
    "def func(x):\n",
    "    res = 0\n",
    "    for i in range(x):\n",
    "        res += i\n",
    "    return res\n",
    "\n",
    "print(func(4))"
   ]
  },
  {
   "cell_type": "code",
   "execution_count": 5,
   "metadata": {},
   "outputs": [],
   "source": [
    "# So we have res = 0 to start with and it goes within the loop. If we are printing the value 4 ot he range it means there are 4 steps. So it starts:\n",
    "#     first loop:\n",
    "#         res = 0 (the value of res) + 0 (value of i)\n",
    "#     second loop:\n",
    "#         res = 0 (current value of res) + 1 (value of i on the second loop)\n",
    "#     third loop:\n",
    "#         res = 1 (current value of res) + 2 (value of i on the third loop)\n",
    "#     four loop:\n",
    "#         res = 3 (current value of res) + 3 (value of i on the second loop)\n",
    "# By returning we ends the loop at 6 "
   ]
  },
  {
   "cell_type": "code",
   "execution_count": 4,
   "metadata": {},
   "outputs": [],
   "source": [
    "# Note - if we indent return res it will take 0 "
   ]
  }
 ],
 "metadata": {
  "kernelspec": {
   "display_name": "Python 3",
   "language": "python",
   "name": "python3"
  },
  "language_info": {
   "codemirror_mode": {
    "name": "ipython",
    "version": 3
   },
   "file_extension": ".py",
   "mimetype": "text/x-python",
   "name": "python",
   "nbconvert_exporter": "python",
   "pygments_lexer": "ipython3",
   "version": "3.7.1"
  }
 },
 "nbformat": 4,
 "nbformat_minor": 4
}
