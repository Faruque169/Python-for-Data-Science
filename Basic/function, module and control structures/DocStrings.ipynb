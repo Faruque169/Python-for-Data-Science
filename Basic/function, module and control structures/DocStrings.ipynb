{
 "cells": [
  {
   "cell_type": "raw",
   "metadata": {},
   "source": [
    "DocStrings (Documentation strings) serve a similar purpose to comments, as they are designed to explain code. However, they are created by putting a multiline String Containing an explanation of the function below the function's first line."
   ]
  },
  {
   "cell_type": "code",
   "execution_count": 2,
   "metadata": {},
   "outputs": [
    {
     "name": "stdout",
     "output_type": "stream",
     "text": [
      "Demolish!\n"
     ]
    }
   ],
   "source": [
    "def Shout(word):\n",
    "    \"\"\"Print a Word with an exclamation\n",
    "    mark following it\"\"\"\n",
    "    print(word + \"!\")\n",
    "Shout(\"Demolish\")"
   ]
  }
 ],
 "metadata": {
  "kernelspec": {
   "display_name": "Python 3",
   "language": "python",
   "name": "python3"
  },
  "language_info": {
   "codemirror_mode": {
    "name": "ipython",
    "version": 3
   },
   "file_extension": ".py",
   "mimetype": "text/x-python",
   "name": "python",
   "nbconvert_exporter": "python",
   "pygments_lexer": "ipython3",
   "version": "3.7.1"
  }
 },
 "nbformat": 4,
 "nbformat_minor": 4
}
