{
 "cells": [
  {
   "cell_type": "code",
   "execution_count": 23,
   "metadata": {},
   "outputs": [
    {
     "name": "stdout",
     "output_type": "stream",
     "text": [
      "Height of Rahim equal 20 Semi\n",
      "Height of Karim equal 40 Semi\n",
      "Height of Rakib equal 45 Semi\n"
     ]
    },
    {
     "data": {
      "text/plain": [
       "-1780"
      ]
     },
     "execution_count": 23,
     "metadata": {},
     "output_type": "execute_result"
    }
   ],
   "source": [
    "def substraction(a,b,c):\n",
    "    result = a - b*c\n",
    "    print(\"Height of Rahim equal\",a,\"Semi\")\n",
    "    print(\"Height of Karim equal\",b,\"Semi\")\n",
    "    print(\"Height of Rakib equal\",c,\"Semi\")\n",
    "    return result\n",
    "substraction(c=45,b=40,a=20)"
   ]
  },
  {
   "cell_type": "markdown",
   "metadata": {},
   "source": [
    "# If i want to add text with result unit"
   ]
  },
  {
   "cell_type": "code",
   "execution_count": 24,
   "metadata": {},
   "outputs": [
    {
     "name": "stdout",
     "output_type": "stream",
     "text": [
      "Height of Rahim equal 20 Semi\n",
      "Height of Karim equal 40 Semi\n",
      "Height of Rakib equal 45 Semi\n",
      "-1780 Sentimeter\n"
     ]
    }
   ],
   "source": [
    "Sub_with_Unit = f\"{substraction(20,40,45)} Sentimeter\"\n",
    "print(Sub_with_Unit)"
   ]
  }
 ],
 "metadata": {
  "kernelspec": {
   "display_name": "Python 3",
   "language": "python",
   "name": "python3"
  },
  "language_info": {
   "codemirror_mode": {
    "name": "ipython",
    "version": 3
   },
   "file_extension": ".py",
   "mimetype": "text/x-python",
   "name": "python",
   "nbconvert_exporter": "python",
   "pygments_lexer": "ipython3",
   "version": "3.7.6"
  }
 },
 "nbformat": 4,
 "nbformat_minor": 4
}
