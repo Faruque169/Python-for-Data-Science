{
 "cells": [
  {
   "cell_type": "markdown",
   "metadata": {},
   "source": [
    "# To check how many letter (& percent of the letter) in a text file"
   ]
  },
  {
   "cell_type": "code",
   "execution_count": 30,
   "metadata": {},
   "outputs": [
    {
     "name": "stdout",
     "output_type": "stream",
     "text": [
      "Lets check Number of char (l) in text (hello) is  2\n",
      "g - 4.76%\n",
      "o - 9.52%\n",
      "o - 9.52%\n",
      "d - 9.52%\n",
      "m - 4.76%\n"
     ]
    }
   ],
   "source": [
    "def count_char (text, char):\n",
    "    count = 0\n",
    "    for x in text:\n",
    "        if x == char:\n",
    "            count += 1\n",
    "    return count\n",
    "\n",
    "print ( \"Lets check Number of char (l) in text (hello) is \", (count_char('hello','l')))\n",
    "       \n",
    "file = open('test.txt', 'w')\n",
    "file.write(\"\"\"A good man never dies\"\"\")\n",
    "file.close()\n",
    "\n",
    "filename = 'test.txt'\n",
    "with open (filename) as f:\n",
    "    text = f.read()\n",
    "\n",
    "for char in 'goodm':\n",
    "    prec = 100 * count_char(text, char) / len(text)\n",
    "    print(\"{0} - {1}%\".format(char,round(prec,2)))"
   ]
  },
  {
   "cell_type": "code",
   "execution_count": null,
   "metadata": {},
   "outputs": [],
   "source": []
  }
 ],
 "metadata": {
  "kernelspec": {
   "display_name": "Python 3",
   "language": "python",
   "name": "python3"
  },
  "language_info": {
   "codemirror_mode": {
    "name": "ipython",
    "version": 3
   },
   "file_extension": ".py",
   "mimetype": "text/x-python",
   "name": "python",
   "nbconvert_exporter": "python",
   "pygments_lexer": "ipython3",
   "version": "3.7.6"
  }
 },
 "nbformat": 4,
 "nbformat_minor": 4
}
