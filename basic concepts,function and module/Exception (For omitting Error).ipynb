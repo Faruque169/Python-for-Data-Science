{
 "cells": [
  {
   "cell_type": "markdown",
   "metadata": {},
   "source": [
    "# If we want to minimise an exact error"
   ]
  },
  {
   "cell_type": "code",
   "execution_count": 2,
   "metadata": {},
   "outputs": [
    {
     "name": "stdout",
     "output_type": "stream",
     "text": [
      "Error Minimized\n"
     ]
    }
   ],
   "source": [
    "try:\n",
    "...     value = (6/0)\n",
    "...     print(\"Error not Found\")\n",
    "... except ZeroDivisionError:\n",
    "...     print(\"Error Minimized\")"
   ]
  },
  {
   "cell_type": "markdown",
   "metadata": {},
   "source": [
    "Note - Or if we want to omit all the error without specifing the error we can use finally"
   ]
  },
  {
   "cell_type": "code",
   "execution_count": 6,
   "metadata": {},
   "outputs": [
    {
     "name": "stdout",
     "output_type": "stream",
     "text": [
      "Error Minimized\n"
     ]
    }
   ],
   "source": [
    "try:\n",
    "    m = \"String\"\n",
    "    value = (m/0)\n",
    "    print(\"Error not Found\")\n",
    "except:\n",
    "    print(\"Error Minimized\")"
   ]
  },
  {
   "cell_type": "code",
   "execution_count": 1,
   "metadata": {},
   "outputs": [
    {
     "name": "stdout",
     "output_type": "stream",
     "text": [
      "Hello\n",
      "Divided by Zero\n"
     ]
    }
   ],
   "source": [
    "try:\n",
    "    print(\"Hello\")\n",
    "    print(9/0)\n",
    "except ZeroDivisionError:\n",
    "    print(\"Divided by Zero\")"
   ]
  },
  {
   "cell_type": "code",
   "execution_count": 15,
   "metadata": {},
   "outputs": [
    {
     "name": "stdout",
     "output_type": "stream",
     "text": [
      "Hello\n",
      "Divided by Zero\n",
      "This code will run no matter    what error we get\n"
     ]
    }
   ],
   "source": [
    "try:\n",
    "    print(\"Hello\")\n",
    "    print(9/0)\n",
    "except ZeroDivisionError:\n",
    "    print(\"Divided by Zero\")\n",
    "finally:\n",
    "    print(\"\"\"This code will run no matter\\\n",
    "    what error we get\"\"\")"
   ]
  }
 ],
 "metadata": {
  "kernelspec": {
   "display_name": "Python 3",
   "language": "python",
   "name": "python3"
  },
  "language_info": {
   "codemirror_mode": {
    "name": "ipython",
    "version": 3
   },
   "file_extension": ".py",
   "mimetype": "text/x-python",
   "name": "python",
   "nbconvert_exporter": "python",
   "pygments_lexer": "ipython3",
   "version": "3.7.3"
  }
 },
 "nbformat": 4,
 "nbformat_minor": 4
}
